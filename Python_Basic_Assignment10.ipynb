{
 "cells": [
  {
   "cell_type": "markdown",
   "metadata": {},
   "source": [
    "1. How do you distinguish between shutil.copy() and shutil.copytree()?"
   ]
  },
  {
   "cell_type": "code",
   "execution_count": 1,
   "metadata": {},
   "outputs": [],
   "source": [
    "import shutil\n",
    "\n",
    "Source_folder =r\"C:\\Users\\ROHIT\\Desktop\\Source_folder\" # we have three items in this folder (Source_folder\n",
    "\n",
    "Destination_folder =\"C:/Users/ROHIT/Desktop/Destination_folder\" # this folder is empty\n",
    "\n"
   ]
  },
  {
   "cell_type": "code",
   "execution_count": 2,
   "metadata": {},
   "outputs": [
    {
     "data": {
      "text/plain": [
       "['150 Questions.docx', 'Bulish_Reversal.pdf', 'phone price.pdf']"
      ]
     },
     "execution_count": 2,
     "metadata": {},
     "output_type": "execute_result"
    }
   ],
   "source": [
    "import os\n",
    "os.listdir(r\"C:\\Users\\ROHIT\\Desktop\\Source_folder\" ) # three items"
   ]
  },
  {
   "cell_type": "code",
   "execution_count": 3,
   "metadata": {},
   "outputs": [
    {
     "ename": "FileNotFoundError",
     "evalue": "[WinError 3] The system cannot find the path specified: 'C:/Users/ROHIT/Desktop/Destination_folder'",
     "output_type": "error",
     "traceback": [
      "\u001b[1;31m---------------------------------------------------------------------------\u001b[0m",
      "\u001b[1;31mFileNotFoundError\u001b[0m                         Traceback (most recent call last)",
      "\u001b[1;32m<ipython-input-3-f146194811a3>\u001b[0m in \u001b[0;36m<module>\u001b[1;34m\u001b[0m\n\u001b[1;32m----> 1\u001b[1;33m \u001b[0mos\u001b[0m\u001b[1;33m.\u001b[0m\u001b[0mlistdir\u001b[0m\u001b[1;33m(\u001b[0m\u001b[1;34m\"C:/Users/ROHIT/Desktop/Destination_folder\"\u001b[0m\u001b[1;33m)\u001b[0m \u001b[1;31m# empty folder\u001b[0m\u001b[1;33m\u001b[0m\u001b[1;33m\u001b[0m\u001b[0m\n\u001b[0m",
      "\u001b[1;31mFileNotFoundError\u001b[0m: [WinError 3] The system cannot find the path specified: 'C:/Users/ROHIT/Desktop/Destination_folder'"
     ]
    }
   ],
   "source": [
    "os.listdir(\"C:/Users/ROHIT/Desktop/Destination_folder\") # will trhow an error as folder not availabe at desktop till now"
   ]
  },
  {
   "cell_type": "code",
   "execution_count": 4,
   "metadata": {},
   "outputs": [
    {
     "data": {
      "text/plain": [
       "'C:/Users/ROHIT/Desktop/Destination_folder'"
      ]
     },
     "execution_count": 4,
     "metadata": {},
     "output_type": "execute_result"
    }
   ],
   "source": [
    " shutil.copytree(src=Source_folder,dst=Destination_folder) "
   ]
  },
  {
   "cell_type": "code",
   "execution_count": 5,
   "metadata": {},
   "outputs": [
    {
     "data": {
      "text/plain": [
       "['150 Questions.docx', 'Bulish_Reversal.pdf', 'phone price.pdf']"
      ]
     },
     "execution_count": 5,
     "metadata": {},
     "output_type": "execute_result"
    }
   ],
   "source": [
    "# now we will check items in destination folder ()\n",
    "# as you see below folder exists and it has three items that are in \n",
    "\n",
    "os.listdir(Destination_folder)"
   ]
  },
  {
   "cell_type": "markdown",
   "metadata": {},
   "source": [
    "# Conclusion"
   ]
  },
  {
   "cell_type": "markdown",
   "metadata": {},
   "source": [
    "shutil.copytree(src=,dst=)  will create a new folder and copy all emements\n",
    "if folder already exists than throws an error\n",
    "\n",
    "The shutil.copy() function will copy a single file, while shutil.copytree() will copy an entire folder, along with all its contents.\n",
    "\n"
   ]
  },
  {
   "cell_type": "code",
   "execution_count": 18,
   "metadata": {},
   "outputs": [],
   "source": [
    "# now we will discuss about shutil.copy()"
   ]
  },
  {
   "cell_type": "code",
   "execution_count": 19,
   "metadata": {},
   "outputs": [],
   "source": [
    "import shutil"
   ]
  },
  {
   "cell_type": "code",
   "execution_count": 23,
   "metadata": {},
   "outputs": [],
   "source": [
    "Source1_= r\"C:\\Users\\ROHIT\\Desktop\\Source1\\rohitimage.jfif\" # it contains 1 image in our case\n",
    "\n",
    "Destianion1_=r\"C:\\Users\\ROHIT\\Desktop\\Destination1\" # it is a empty folder at desktop location"
   ]
  },
  {
   "cell_type": "code",
   "execution_count": 24,
   "metadata": {},
   "outputs": [
    {
     "data": {
      "text/plain": [
       "'C:\\\\Users\\\\ROHIT\\\\Desktop\\\\Destination1\\\\rohitimage.jfif'"
      ]
     },
     "execution_count": 24,
     "metadata": {},
     "output_type": "execute_result"
    }
   ],
   "source": [
    "shutil.copy(src=Source1_,dst=Destianion1_)"
   ]
  },
  {
   "cell_type": "markdown",
   "metadata": {},
   "source": [
    "2. What function is used to rename files??"
   ]
  },
  {
   "cell_type": "code",
   "execution_count": 46,
   "metadata": {},
   "outputs": [],
   "source": [
    "\n",
    "#1. os.rename\n",
    "\n",
    "# os.rename() method in Python is used to rename a file or directory.\n",
    "# This method renames a source file/ directory to specified destination file/directory."
   ]
  },
  {
   "cell_type": "code",
   "execution_count": 26,
   "metadata": {},
   "outputs": [],
   "source": [
    "import os"
   ]
  },
  {
   "cell_type": "code",
   "execution_count": 40,
   "metadata": {},
   "outputs": [],
   "source": [
    "My_source = r\"E:\\I_Nureon\\Python Basic Assignment\\Files_to_change\\A_destination\\My_sourcefile.txt\"\n",
    "\n",
    "My_destination =r\"E:\\I_Nureon\\Python Basic Assignment\\Files_to_change\\A_destination\\changed_name.txt\"\n",
    "\n",
    "os.rename(src=My_source,dst=My_destination)\n",
    "\n",
    "\n",
    "# in above case My_sourcefile.txt name will change as changed_name.txt"
   ]
  },
  {
   "cell_type": "code",
   "execution_count": 41,
   "metadata": {},
   "outputs": [],
   "source": [
    "import shutil"
   ]
  },
  {
   "cell_type": "code",
   "execution_count": 45,
   "metadata": {},
   "outputs": [
    {
     "data": {
      "text/plain": [
       "'E:\\\\I_Nureon\\\\Python Basic Assignment\\\\Files_to_change\\\\A_destination\\\\A_source'"
      ]
     },
     "execution_count": 45,
     "metadata": {},
     "output_type": "execute_result"
    }
   ],
   "source": [
    "My_source = r\"E:\\I_Nureon\\Python Basic Assignment\\Files_to_change\\A_source\"\n",
    "My_destination =r\"E:\\I_Nureon\\Python Basic Assignment\\Files_to_change\\A_destination\"\n",
    "\n",
    "shutil.move(src=My_source,dst=My_destination)\n",
    "\n",
    "# in above example I have A_source directory in Files_to_change directory\n",
    "\n",
    "# A_source directore will be moved to A_destination directory"
   ]
  },
  {
   "cell_type": "markdown",
   "metadata": {},
   "source": [
    "3. What is the difference between the delete functions in the send2trash and shutil modules?"
   ]
  },
  {
   "cell_type": "code",
   "execution_count": 47,
   "metadata": {},
   "outputs": [],
   "source": [
    "#The send2trash functions will move a file or folder to the recycle bin, while shutil functions will permanently delete\n",
    "#files and folders."
   ]
  },
  {
   "cell_type": "code",
   "execution_count": 48,
   "metadata": {},
   "outputs": [],
   "source": [
    "# If the directory contains files or other folders, those are also deleted. A TrashPermissionError exception is raised, in \n",
    "# case a file could not be deleted due to permission error or any other unexpected reason."
   ]
  },
  {
   "cell_type": "code",
   "execution_count": 49,
   "metadata": {},
   "outputs": [],
   "source": [
    "import send2trash"
   ]
  },
  {
   "cell_type": "code",
   "execution_count": 50,
   "metadata": {},
   "outputs": [],
   "source": [
    "send2trash.send2trash(r\"C:\\Users\\ROHIT\\Desktop\\Delete this dir\") # always remember it will delete complete folder "
   ]
  },
  {
   "cell_type": "markdown",
   "metadata": {},
   "source": [
    "4.ZipFile objects have a close() method just like File objects’ close() method. What ZipFile method is equivalent to File objects’ open() method?"
   ]
  },
  {
   "cell_type": "code",
   "execution_count": 52,
   "metadata": {},
   "outputs": [],
   "source": [
    "#The zipfile.ZipFile() function is equivalent to the open() function; the first argument is the filename, and the second\n",
    "#argument is the mode to open the ZIP file in (read, write, or append)."
   ]
  },
  {
   "cell_type": "code",
   "execution_count": 75,
   "metadata": {},
   "outputs": [
    {
     "name": "stdout",
     "output_type": "stream",
     "text": [
      "['New folder/Textfile.txt', 'New folder/wordfile.rtf']\n"
     ]
    }
   ],
   "source": [
    "import zipfile\n",
    "\n",
    "from zipfile import ZipFile\n",
    "\n",
    "# i have a zip file at desktop (My_zip_file)\n",
    "file=\"My_zip_file\"\n",
    "type(zipfile.ZipFile(\"C:/Users/ROHIT/Desktop/My_zip_file.zip\")) # always remember to add file extension like(.txt or .zip)\n",
    "\n",
    "with zipfile.ZipFile(\"C:/Users/ROHIT/Desktop/My_zip_file.zip\") as f:\n",
    "    name_list = f.namelist()\n",
    "    \n",
    "    print(name_list)\n",
    "\n",
    "# in My_zip_file I have 1 folder (New folder) and i have twofiles in that \n",
    "#first file is :Textfile\n",
    "#second file is :wordfile"
   ]
  },
  {
   "cell_type": "markdown",
   "metadata": {},
   "source": [
    "5. Create a programme that searches a folder tree for files with a certain file extension (such as .pdf or .jpg). Copy these files from whatever location they are in to a new folder."
   ]
  },
  {
   "cell_type": "code",
   "execution_count": 87,
   "metadata": {},
   "outputs": [
    {
     "name": "stdout",
     "output_type": "stream",
     "text": [
      "C:\\Users\\ROHIT\\Desktop\n",
      "app_dev.txt\n",
      "code opstra.txt\n",
      "discount stocks.txt\n",
      "domain Names.txt\n",
      "function_question.txt\n",
      "new_file_check.txt\n",
      "python exersise.txt\n",
      "question to ask fib.txt\n",
      "question to ask.txt\n",
      "questions to ask next.txt\n",
      "Regx_textfile.txt\n",
      "stocks di not fall.txt\n",
      "stocs to buy.txt\n",
      "this.txt\n",
      "C:\\Users\\ROHIT\\Desktop\\.ipynb_checkpoints\n",
      "C:\\Users\\ROHIT\\Desktop\\1-10_files\n",
      "C:\\Users\\ROHIT\\Desktop\\copy_tfile\n",
      "app_dev.txt\n",
      "code opstra.txt\n",
      "discount stocks.txt\n",
      "domain Names.txt\n",
      "function_question.txt\n",
      "new_file_check.txt\n",
      "python exersise.txt\n",
      "question to ask fib.txt\n",
      "question to ask.txt\n",
      "questions to ask next.txt\n",
      "Regx_textfile.txt\n",
      "stocks di not fall.txt\n",
      "stocs to buy.txt\n",
      "this.txt\n",
      "C:\\Users\\ROHIT\\Desktop\\destination\n",
      "C:\\Users\\ROHIT\\Desktop\\Destination1\n",
      "C:\\Users\\ROHIT\\Desktop\\Destination_folder\n",
      "C:\\Users\\ROHIT\\Desktop\\IMPORTANT DAY\n",
      "C:\\Users\\ROHIT\\Desktop\\Inuro\n",
      "C:\\Users\\ROHIT\\Desktop\\Logging_dir\n",
      "C:\\Users\\ROHIT\\Desktop\\Matplotlib\n",
      "C:\\Users\\ROHIT\\Desktop\\Matplotlib\\Class1\n",
      "C:\\Users\\ROHIT\\Desktop\\Matplotlib\\Class1\\.ipynb_checkpoints\n",
      "C:\\Users\\ROHIT\\Desktop\\Matplotlib\\Class2\n",
      "C:\\Users\\ROHIT\\Desktop\\Matplotlib\\Class2\\.ipynb_checkpoints\n",
      "C:\\Users\\ROHIT\\Desktop\\Matplotlib\\Class3\n",
      "C:\\Users\\ROHIT\\Desktop\\Matplotlib\\Class3\\.ipynb_checkpoints\n",
      "C:\\Users\\ROHIT\\Desktop\\My_root_folder\n"
     ]
    },
    {
     "ename": "FileNotFoundError",
     "evalue": "[Errno 2] No such file or directory: 'C:\\\\Users\\\\ROHIT\\\\Desktop\\\\\\\\I_am_text1.txt'",
     "output_type": "error",
     "traceback": [
      "\u001b[1;31m---------------------------------------------------------------------------\u001b[0m",
      "\u001b[1;31mFileNotFoundError\u001b[0m                         Traceback (most recent call last)",
      "\u001b[1;32m<ipython-input-87-dd45f1958e07>\u001b[0m in \u001b[0;36m<module>\u001b[1;34m\u001b[0m\n\u001b[0;32m     11\u001b[0m         \u001b[1;32mif\u001b[0m \u001b[0mfile\u001b[0m\u001b[1;33m.\u001b[0m\u001b[0mendswith\u001b[0m\u001b[1;33m(\u001b[0m\u001b[1;34m\".txt\"\u001b[0m\u001b[1;33m)\u001b[0m\u001b[1;33m:\u001b[0m\u001b[1;33m\u001b[0m\u001b[1;33m\u001b[0m\u001b[0m\n\u001b[0;32m     12\u001b[0m \u001b[1;33m\u001b[0m\u001b[0m\n\u001b[1;32m---> 13\u001b[1;33m             \u001b[0mshutil\u001b[0m\u001b[1;33m.\u001b[0m\u001b[0mcopy\u001b[0m\u001b[1;33m(\u001b[0m\u001b[0msrc\u001b[0m\u001b[1;33m=\u001b[0m\u001b[1;34mr\"C:\\Users\\ROHIT\\Desktop\\\\\"\u001b[0m\u001b[1;33m+\u001b[0m\u001b[0mfile\u001b[0m\u001b[1;33m,\u001b[0m\u001b[0mdst\u001b[0m\u001b[1;33m=\u001b[0m\u001b[1;34mr\"C:\\Users\\ROHIT\\Desktop\\copy_tfile\"\u001b[0m\u001b[1;33m)\u001b[0m\u001b[1;33m\u001b[0m\u001b[1;33m\u001b[0m\u001b[0m\n\u001b[0m\u001b[0;32m     14\u001b[0m             \u001b[0mprint\u001b[0m\u001b[1;33m(\u001b[0m\u001b[0mfile\u001b[0m\u001b[1;33m)\u001b[0m \u001b[1;31m# it will print all txt files\u001b[0m\u001b[1;33m\u001b[0m\u001b[1;33m\u001b[0m\u001b[0m\n\u001b[0;32m     15\u001b[0m \u001b[1;33m\u001b[0m\u001b[0m\n",
      "\u001b[1;32m~\\anaconda3\\lib\\shutil.py\u001b[0m in \u001b[0;36mcopy\u001b[1;34m(src, dst, follow_symlinks)\u001b[0m\n\u001b[0;32m    413\u001b[0m     \u001b[1;32mif\u001b[0m \u001b[0mos\u001b[0m\u001b[1;33m.\u001b[0m\u001b[0mpath\u001b[0m\u001b[1;33m.\u001b[0m\u001b[0misdir\u001b[0m\u001b[1;33m(\u001b[0m\u001b[0mdst\u001b[0m\u001b[1;33m)\u001b[0m\u001b[1;33m:\u001b[0m\u001b[1;33m\u001b[0m\u001b[1;33m\u001b[0m\u001b[0m\n\u001b[0;32m    414\u001b[0m         \u001b[0mdst\u001b[0m \u001b[1;33m=\u001b[0m \u001b[0mos\u001b[0m\u001b[1;33m.\u001b[0m\u001b[0mpath\u001b[0m\u001b[1;33m.\u001b[0m\u001b[0mjoin\u001b[0m\u001b[1;33m(\u001b[0m\u001b[0mdst\u001b[0m\u001b[1;33m,\u001b[0m \u001b[0mos\u001b[0m\u001b[1;33m.\u001b[0m\u001b[0mpath\u001b[0m\u001b[1;33m.\u001b[0m\u001b[0mbasename\u001b[0m\u001b[1;33m(\u001b[0m\u001b[0msrc\u001b[0m\u001b[1;33m)\u001b[0m\u001b[1;33m)\u001b[0m\u001b[1;33m\u001b[0m\u001b[1;33m\u001b[0m\u001b[0m\n\u001b[1;32m--> 415\u001b[1;33m     \u001b[0mcopyfile\u001b[0m\u001b[1;33m(\u001b[0m\u001b[0msrc\u001b[0m\u001b[1;33m,\u001b[0m \u001b[0mdst\u001b[0m\u001b[1;33m,\u001b[0m \u001b[0mfollow_symlinks\u001b[0m\u001b[1;33m=\u001b[0m\u001b[0mfollow_symlinks\u001b[0m\u001b[1;33m)\u001b[0m\u001b[1;33m\u001b[0m\u001b[1;33m\u001b[0m\u001b[0m\n\u001b[0m\u001b[0;32m    416\u001b[0m     \u001b[0mcopymode\u001b[0m\u001b[1;33m(\u001b[0m\u001b[0msrc\u001b[0m\u001b[1;33m,\u001b[0m \u001b[0mdst\u001b[0m\u001b[1;33m,\u001b[0m \u001b[0mfollow_symlinks\u001b[0m\u001b[1;33m=\u001b[0m\u001b[0mfollow_symlinks\u001b[0m\u001b[1;33m)\u001b[0m\u001b[1;33m\u001b[0m\u001b[1;33m\u001b[0m\u001b[0m\n\u001b[0;32m    417\u001b[0m     \u001b[1;32mreturn\u001b[0m \u001b[0mdst\u001b[0m\u001b[1;33m\u001b[0m\u001b[1;33m\u001b[0m\u001b[0m\n",
      "\u001b[1;32m~\\anaconda3\\lib\\shutil.py\u001b[0m in \u001b[0;36mcopyfile\u001b[1;34m(src, dst, follow_symlinks)\u001b[0m\n\u001b[0;32m    259\u001b[0m         \u001b[0mos\u001b[0m\u001b[1;33m.\u001b[0m\u001b[0msymlink\u001b[0m\u001b[1;33m(\u001b[0m\u001b[0mos\u001b[0m\u001b[1;33m.\u001b[0m\u001b[0mreadlink\u001b[0m\u001b[1;33m(\u001b[0m\u001b[0msrc\u001b[0m\u001b[1;33m)\u001b[0m\u001b[1;33m,\u001b[0m \u001b[0mdst\u001b[0m\u001b[1;33m)\u001b[0m\u001b[1;33m\u001b[0m\u001b[1;33m\u001b[0m\u001b[0m\n\u001b[0;32m    260\u001b[0m     \u001b[1;32melse\u001b[0m\u001b[1;33m:\u001b[0m\u001b[1;33m\u001b[0m\u001b[1;33m\u001b[0m\u001b[0m\n\u001b[1;32m--> 261\u001b[1;33m         \u001b[1;32mwith\u001b[0m \u001b[0mopen\u001b[0m\u001b[1;33m(\u001b[0m\u001b[0msrc\u001b[0m\u001b[1;33m,\u001b[0m \u001b[1;34m'rb'\u001b[0m\u001b[1;33m)\u001b[0m \u001b[1;32mas\u001b[0m \u001b[0mfsrc\u001b[0m\u001b[1;33m,\u001b[0m \u001b[0mopen\u001b[0m\u001b[1;33m(\u001b[0m\u001b[0mdst\u001b[0m\u001b[1;33m,\u001b[0m \u001b[1;34m'wb'\u001b[0m\u001b[1;33m)\u001b[0m \u001b[1;32mas\u001b[0m \u001b[0mfdst\u001b[0m\u001b[1;33m:\u001b[0m\u001b[1;33m\u001b[0m\u001b[1;33m\u001b[0m\u001b[0m\n\u001b[0m\u001b[0;32m    262\u001b[0m             \u001b[1;31m# macOS\u001b[0m\u001b[1;33m\u001b[0m\u001b[1;33m\u001b[0m\u001b[1;33m\u001b[0m\u001b[0m\n\u001b[0;32m    263\u001b[0m             \u001b[1;32mif\u001b[0m \u001b[0m_HAS_FCOPYFILE\u001b[0m\u001b[1;33m:\u001b[0m\u001b[1;33m\u001b[0m\u001b[1;33m\u001b[0m\u001b[0m\n",
      "\u001b[1;31mFileNotFoundError\u001b[0m: [Errno 2] No such file or directory: 'C:\\\\Users\\\\ROHIT\\\\Desktop\\\\\\\\I_am_text1.txt'"
     ]
    }
   ],
   "source": [
    "import os\n",
    "import shutil\n",
    "for dirpath, dirnames, filenames in os.walk(r\"C:\\Users\\ROHIT\\Desktop\"):\n",
    "    \n",
    "    #print(dirpath)it prints path\n",
    "    #dirnames prints subfolder in root folder\n",
    "    #filenames prints file name \n",
    "    \n",
    "    for file in filenames:\n",
    "        \n",
    "        \n",
    "        \n",
    "        if file.endswith(\".txt\"): \n",
    "            \n",
    "            shutil.copy(src=r\"C:\\Users\\ROHIT\\Desktop\\\\\"+file,dst=r\"C:\\Users\\ROHIT\\Desktop\\copy_tfile\")\n",
    "            # always remember to put \\\\ in the end of the string if you are using r sting else use double\\\\ slash\n",
    "            #print(file) # it will print all txt files\n",
    "            "
   ]
  },
  {
   "cell_type": "code",
   "execution_count": null,
   "metadata": {},
   "outputs": [],
   "source": []
  },
  {
   "cell_type": "code",
   "execution_count": null,
   "metadata": {},
   "outputs": [],
   "source": []
  }
 ],
 "metadata": {
  "kernelspec": {
   "display_name": "Python 3",
   "language": "python",
   "name": "python3"
  },
  "language_info": {
   "codemirror_mode": {
    "name": "ipython",
    "version": 3
   },
   "file_extension": ".py",
   "mimetype": "text/x-python",
   "name": "python",
   "nbconvert_exporter": "python",
   "pygments_lexer": "ipython3",
   "version": "3.8.3"
  }
 },
 "nbformat": 4,
 "nbformat_minor": 4
}

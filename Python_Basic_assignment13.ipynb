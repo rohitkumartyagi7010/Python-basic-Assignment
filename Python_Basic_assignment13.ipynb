{
 "cells": [
  {
   "cell_type": "markdown",
   "metadata": {},
   "source": [
    "1. What advantages do Excel spreadsheets have over CSV spreadsheets?"
   ]
  },
  {
   "cell_type": "code",
   "execution_count": 1,
   "metadata": {},
   "outputs": [],
   "source": [
    "# In Excel, spreadsheets can have values of data types other than strings; cells can have different fonts, sizes,\n",
    "# or color settings; cells can have varying widths and heights; adjacent cells can be merged; and you can embed images\n",
    "# and charts.\n"
   ]
  },
  {
   "cell_type": "markdown",
   "metadata": {},
   "source": [
    "2.What do you pass to csv.reader() and csv.writer() to create reader and writer objects?"
   ]
  },
  {
   "cell_type": "code",
   "execution_count": 2,
   "metadata": {},
   "outputs": [],
   "source": [
    "# we pass object. Let's see how\n",
    "import csv\n",
    "\n",
    "with open(\"my_csv_file.csv\",\"wb\") as f:\n",
    "    \n",
    "    csv_writer = csv.writer(f)"
   ]
  },
  {
   "cell_type": "markdown",
   "metadata": {},
   "source": [
    "3. What modes do File objects for reader and writer objects need to be opened in?"
   ]
  },
  {
   "cell_type": "code",
   "execution_count": 12,
   "metadata": {},
   "outputs": [],
   "source": [
    "# for read mode (rb)\n",
    "import csv\n",
    "\n",
    "with open(\"My_new_csv.csv\",\"rb\")as f:\n",
    "    \n",
    "    csv_reader =csv.reader(f)\n",
    "    \n",
    "  \n",
    "    \n",
    "# for write  object (wb)\n",
    "\n",
    "import csv\n",
    "\n",
    "with open(\"My_new_csv.csv\",\"wb\")as f:\n",
    "    \n",
    "    csv_writer =csv.writer(f)\n",
    "    \n",
    "  \n",
    "\n"
   ]
  },
  {
   "cell_type": "markdown",
   "metadata": {},
   "source": [
    "4. What method takes a list argument and writes it to a CSV file?"
   ]
  },
  {
   "cell_type": "code",
   "execution_count": 21,
   "metadata": {},
   "outputs": [],
   "source": [
    "#writerow method will take a list as argument and writh it to csv file\n",
    "# lets understand this by example\n",
    "\n",
    "\n",
    "#1. First we will create file This_csv1 (open it in w mode)\n",
    "\n",
    "import csv\n",
    "\n",
    "with open(\"This_csv1.csv\",\"w\") as file_name:\n",
    "    \n",
    "    csv_writer = csv.writer(file_name)\n",
    "    \n",
    "    csv_writer.writerow([\"Fisrt_word\",30,\"ROhit\"]) # will create row \n",
    "    \n",
    "    \n",
    "    "
   ]
  },
  {
   "cell_type": "markdown",
   "metadata": {},
   "source": [
    "5. What do the keyword arguments delimiter and line terminator do?"
   ]
  },
  {
   "cell_type": "code",
   "execution_count": 30,
   "metadata": {},
   "outputs": [],
   "source": [
    "#The delimiter argument changes the string used to separate cells in a row\n",
    "\n",
    "# The lineterminator argument changes the string used to separate rows.\n",
    "\n",
    "# lets understand buy example\n",
    "import csv\n",
    "\n",
    "csv_file = open(\"New2.csv\",\"w\",newline =\"\")\n",
    "\n",
    "csv_writer1 = csv.writer(csv_file,delimiter =\"\\t\",lineterminator=\"\\n\\n\")\n",
    "\n",
    "csv_writer1.writerow([\"Fist_name\",\"Last_name\",\"number\"])\n",
    "\n",
    "csv_writer1.writerow([\"ROhit\",\"Tyagi\",3115])\n",
    "\n",
    "csv_file.close()\n",
    "\n",
    "# now open this file in jupitor"
   ]
  },
  {
   "cell_type": "markdown",
   "metadata": {},
   "source": [
    "6. What function takes a string of JSON data and returns a Python data structure?"
   ]
  },
  {
   "cell_type": "code",
   "execution_count": 38,
   "metadata": {},
   "outputs": [],
   "source": [
    "#jason.loads()"
   ]
  },
  {
   "cell_type": "markdown",
   "metadata": {},
   "source": [
    "7. What function takes a Python data structure and returns a string of JSON data?"
   ]
  },
  {
   "cell_type": "code",
   "execution_count": 37,
   "metadata": {},
   "outputs": [],
   "source": [
    "#jason.dumps()"
   ]
  }
 ],
 "metadata": {
  "kernelspec": {
   "display_name": "Python 3",
   "language": "python",
   "name": "python3"
  },
  "language_info": {
   "codemirror_mode": {
    "name": "ipython",
    "version": 3
   },
   "file_extension": ".py",
   "mimetype": "text/x-python",
   "name": "python",
   "nbconvert_exporter": "python",
   "pygments_lexer": "ipython3",
   "version": "3.8.3"
  }
 },
 "nbformat": 4,
 "nbformat_minor": 4
}

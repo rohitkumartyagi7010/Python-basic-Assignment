{
 "cells": [
  {
   "cell_type": "markdown",
   "metadata": {},
   "source": [
    "1. What is the name of the feature responsible for generating Regex objects?"
   ]
  },
  {
   "cell_type": "code",
   "execution_count": 1,
   "metadata": {},
   "outputs": [
    {
     "data": {
      "text/plain": [
       "re.compile(r'this', re.UNICODE)"
      ]
     },
     "execution_count": 1,
     "metadata": {},
     "output_type": "execute_result"
    }
   ],
   "source": [
    "# re.compile()\n",
    "\n",
    "import re\n",
    "\n",
    "re.compile(\"this\")"
   ]
  },
  {
   "cell_type": "markdown",
   "metadata": {},
   "source": [
    "2. Why do raw strings often appear in Regex objects?"
   ]
  },
  {
   "cell_type": "code",
   "execution_count": 2,
   "metadata": {},
   "outputs": [
    {
     "name": "stdout",
     "output_type": "stream",
     "text": [
      "8\n"
     ]
    }
   ],
   "source": [
    "# so that backslashes  should not be considered as escape character.\n",
    "\n",
    "import re\n",
    "\n",
    "x=re.search(\"is\",\"My name is \\n ROhit\")\n",
    "\n",
    "print(x.start())"
   ]
  },
  {
   "cell_type": "markdown",
   "metadata": {},
   "source": [
    "3. What is the return value of the search() method?"
   ]
  },
  {
   "cell_type": "code",
   "execution_count": 3,
   "metadata": {},
   "outputs": [
    {
     "data": {
      "text/plain": [
       "<re.Match object; span=(9, 15), match='python'>"
      ]
     },
     "execution_count": 3,
     "metadata": {},
     "output_type": "execute_result"
    }
   ],
   "source": [
    "# search() method returns Match objects.\n",
    "\n",
    "import re\n",
    "\n",
    "string= \" THis is python language\"\n",
    "\n",
    "re.search(\"python\",string)"
   ]
  },
  {
   "cell_type": "markdown",
   "metadata": {},
   "source": [
    "4. From a Match item, how do you get the actual strings that match the pattern?"
   ]
  },
  {
   "cell_type": "code",
   "execution_count": 4,
   "metadata": {},
   "outputs": [
    {
     "name": "stdout",
     "output_type": "stream",
     "text": [
      "(10, 16)\n",
      "python\n"
     ]
    }
   ],
   "source": [
    "# .span() returns a tuple containing the start-, and end positions of the match.\n",
    "\n",
    "# .group() returns the part of the string where there was a match\n",
    "\n",
    "import re\n",
    "string1=\"Basics of python1234 language\"\n",
    "\n",
    "x=re.search(\"python\",string1)\n",
    "\n",
    "print(x.span())\n",
    "\n",
    "print(x.group())\n",
    "\n"
   ]
  },
  {
   "cell_type": "markdown",
   "metadata": {},
   "source": [
    "5. In the regex which created from the r'(\\d\\d\\d)-(\\d\\d\\d-\\d\\d\\d\\d)', what does group zero cover? Group 2? Group 1?"
   ]
  },
  {
   "cell_type": "code",
   "execution_count": 10,
   "metadata": {},
   "outputs": [
    {
     "name": "stdout",
     "output_type": "stream",
     "text": [
      "def\n",
      "de\n",
      "e\n"
     ]
    }
   ],
   "source": [
    "# group 0 -------> entire match\n",
    "\n",
    "# group 1--------> covers the first set of parentheses\n",
    "\n",
    "# group 2--------> covers the second set of parentheses.\n",
    "\n",
    "import re\n",
    "\n",
    "m = re.search('(?<=abc)(d(e))f', 'abcdef')\n",
    "\n",
    "print(m.group(0))\n",
    "print(m.group(1))\n",
    "print(m.group(2))"
   ]
  },
  {
   "cell_type": "markdown",
   "metadata": {},
   "source": [
    "6. In standard expression syntax, parentheses and intervals have distinct meanings. How can you tell a regex that you want it to fit real parentheses and periods?"
   ]
  },
  {
   "cell_type": "code",
   "execution_count": 27,
   "metadata": {},
   "outputs": [
    {
     "name": "stdout",
     "output_type": "stream",
     "text": [
      "<re.Match object; span=(2, 3), match='.'>\n"
     ]
    }
   ],
   "source": [
    "#Periods and parentheses can be escaped with a backslash: \\., \\(, and \\).\n",
    "\n",
    "#period \\.\n",
    "\n",
    "#parentheses \\( \\)\n",
    "\n",
    "sentence = \"Mr. ROhit kumar\"\n",
    "\n",
    "pattern = re.compile(r\"\\.\")\n",
    "\n",
    "matches = pattern.finditer(sentence)\n",
    "\n",
    "for match in matches:\n",
    "    print(match)"
   ]
  },
  {
   "cell_type": "markdown",
   "metadata": {},
   "source": [
    "7. The findall() method returns a string list or a list of string tuples. What causes it to return one of the two options?"
   ]
  },
  {
   "cell_type": "code",
   "execution_count": 35,
   "metadata": {},
   "outputs": [
    {
     "name": "stdout",
     "output_type": "stream",
     "text": [
      "['12', '12', '12', '12', '12', '12']\n",
      "[('12', '2', '1'), ('21', '1', '2'), ('45', '2', '3')]\n"
     ]
    }
   ],
   "source": [
    "# If the regex has no groups, a list of strings is returned.\n",
    "# If the regex has groups, a list of tuples of strings is returned.\n",
    "\n",
    "\n",
    "import re\n",
    "\n",
    "print(re.findall(\"12\",\"121212121245123\"))\n",
    "print(re.findall(\"(\\d\\d).(\\d)(\\d)\",\"121212121245123\"))\n",
    "\n"
   ]
  },
  {
   "cell_type": "markdown",
   "metadata": {},
   "source": [
    "8. In standard expressions, what does the | character mean?"
   ]
  },
  {
   "cell_type": "code",
   "execution_count": 36,
   "metadata": {},
   "outputs": [
    {
     "data": {
      "text/plain": [
       "['my', 'Rohit']"
      ]
     },
     "execution_count": 36,
     "metadata": {},
     "output_type": "execute_result"
    }
   ],
   "source": [
    "# | eithr or between two groups\n",
    "\n",
    "import re\n",
    "\n",
    "re.findall(\"my|Rohit\",\"my name is Rohit\")"
   ]
  },
  {
   "cell_type": "markdown",
   "metadata": {},
   "source": [
    "9. In regular expressions, what does the character stand for?"
   ]
  },
  {
   "cell_type": "code",
   "execution_count": 37,
   "metadata": {},
   "outputs": [],
   "source": [
    "# question is not clear"
   ]
  },
  {
   "cell_type": "markdown",
   "metadata": {},
   "source": [
    "10.In regular expressions, what is the difference between the + and * characters?"
   ]
  },
  {
   "cell_type": "code",
   "execution_count": 38,
   "metadata": {},
   "outputs": [
    {
     "name": "stdout",
     "output_type": "stream",
     "text": [
      "<re.Match object; span=(11, 14), match='Roo'>\n",
      "<re.Match object; span=(18, 21), match='Roo'>\n",
      "<re.Match object; span=(23, 26), match='Roo'>\n"
     ]
    }
   ],
   "source": [
    "# Those are quantifiers \n",
    "\n",
    "# *       - 0 or More\n",
    "# +       - 1 or More\n",
    "\n",
    "\n",
    "string = \"My name is Roohit Roo  Roo Kumar\"\n",
    "\n",
    "\n",
    "pattern = re.compile(\"R[o]*\")\n",
    "\n",
    "matches = pattern.finditer(string)\n",
    "\n",
    "for match  in matches:\n",
    "    \n",
    "    print(match)"
   ]
  },
  {
   "cell_type": "code",
   "execution_count": 20,
   "metadata": {},
   "outputs": [
    {
     "name": "stdout",
     "output_type": "stream",
     "text": [
      "<re.Match object; span=(11, 13), match='Ro'>\n"
     ]
    }
   ],
   "source": [
    "string = \"My name is Rohit RO Kumar\"\n",
    "\n",
    "\n",
    "pattern = re.compile(\"R[o]+\")\n",
    "\n",
    "matches = pattern.finditer(string)\n",
    "\n",
    "for match  in matches:\n",
    "    \n",
    "    print(match)"
   ]
  },
  {
   "cell_type": "markdown",
   "metadata": {},
   "source": [
    "11. What is the difference between {4} and {4,5} in regular expression?"
   ]
  },
  {
   "cell_type": "code",
   "execution_count": 60,
   "metadata": {},
   "outputs": [
    {
     "name": "stdout",
     "output_type": "stream",
     "text": [
      "<re.Match object; span=(3, 15), match='211-555-4321'>\n",
      "<re.Match object; span=(28, 40), match='900-555-1245'>\n",
      "<re.Match object; span=(45, 57), match='511-121-1456'>\n"
     ]
    }
   ],
   "source": [
    "# {4}     - Exact Number\n",
    "# {4,4}   - Range of Numbers (Minimum, Maximum)\n",
    "\n",
    "import re \n",
    "\n",
    "text_to_seach = \"\"\"\n",
    "\n",
    "3211-555-4321\n",
    "12.555.1234\n",
    "900-555-1245\n",
    "\n",
    "143511-121-1456\n",
    "\n",
    "\"\"\"\n",
    "\n",
    "pattern = re.compile(r\"\\d{3}.\\d{3}.\\d{4}\")\n",
    "\n",
    "matches = pattern.finditer(text_to_seach)\n",
    "\n",
    "for match in matches:\n",
    "    print(match)"
   ]
  },
  {
   "cell_type": "code",
   "execution_count": 61,
   "metadata": {},
   "outputs": [
    {
     "name": "stdout",
     "output_type": "stream",
     "text": [
      "<re.Match object; span=(2, 15), match='3211-555-4321'>\n",
      "<re.Match object; span=(28, 40), match='900-555-1245'>\n",
      "<re.Match object; span=(43, 57), match='43511-121-1456'>\n"
     ]
    }
   ],
   "source": [
    "pattern = re.compile(r\"\\d{3,5}.\\d{3}.\\d{4}\")\n",
    "\n",
    "matches = pattern.finditer(text_to_seach)\n",
    "\n",
    "for match in matches:\n",
    "    print(match)"
   ]
  },
  {
   "cell_type": "markdown",
   "metadata": {},
   "source": [
    "12. What do you mean by the \\d, \\w, and \\s shorthand character classes signify in regular expressions?"
   ]
  },
  {
   "cell_type": "code",
   "execution_count": 68,
   "metadata": {},
   "outputs": [
    {
     "name": "stdout",
     "output_type": "stream",
     "text": [
      "<re.Match object; span=(9, 10), match='3'>\n",
      "<re.Match object; span=(10, 11), match='2'>\n",
      "<re.Match object; span=(11, 12), match='1'>\n",
      "<re.Match object; span=(12, 13), match='1'>\n"
     ]
    }
   ],
   "source": [
    "# \\d ditgits\n",
    "\n",
    "# \\w word charcter (a to z, A to Z , 0-9)\n",
    "\n",
    "# \\s white space (tab, newline, space)\n",
    "\n",
    "text_to_seach = \n",
    "\"\"\"\n",
    "Rohit\n",
    "3211\n",
    "\"\"\"\n",
    "\n",
    "pattern = re.compile(r\"\\d\")\n",
    "\n",
    "matches= pattern.finditer(text_to_seach)\n",
    "\n",
    "for match in matches:\n",
    "    \n",
    "    print(match)\n",
    "    \n",
    "\n"
   ]
  },
  {
   "cell_type": "code",
   "execution_count": 70,
   "metadata": {},
   "outputs": [
    {
     "name": "stdout",
     "output_type": "stream",
     "text": [
      "<re.Match object; span=(2, 3), match='R'>\n",
      "<re.Match object; span=(3, 4), match='o'>\n",
      "<re.Match object; span=(4, 5), match='h'>\n",
      "<re.Match object; span=(5, 6), match='i'>\n",
      "<re.Match object; span=(6, 7), match='t'>\n",
      "<re.Match object; span=(9, 10), match='3'>\n",
      "<re.Match object; span=(10, 11), match='2'>\n",
      "<re.Match object; span=(11, 12), match='1'>\n",
      "<re.Match object; span=(12, 13), match='1'>\n"
     ]
    }
   ],
   "source": [
    "pattern = re.compile(r\"\\w\")\n",
    "\n",
    "matches= pattern.finditer(text_to_seach)\n",
    "\n",
    "for match in matches:\n",
    "    \n",
    "    print(match)"
   ]
  },
  {
   "cell_type": "code",
   "execution_count": 72,
   "metadata": {},
   "outputs": [
    {
     "name": "stdout",
     "output_type": "stream",
     "text": [
      "<re.Match object; span=(0, 1), match='\\n'>\n",
      "<re.Match object; span=(1, 2), match='\\n'>\n",
      "<re.Match object; span=(7, 8), match='\\n'>\n",
      "<re.Match object; span=(8, 9), match='\\n'>\n",
      "<re.Match object; span=(13, 14), match='\\n'>\n",
      "<re.Match object; span=(14, 15), match='\\n'>\n",
      "<re.Match object; span=(15, 16), match='\\n'>\n"
     ]
    }
   ],
   "source": [
    "pattern = re.compile(r\"\\s\")\n",
    "\n",
    "matches= pattern.finditer(text_to_seach)\n",
    "\n",
    "for match in matches:\n",
    "    print(match)"
   ]
  },
  {
   "cell_type": "markdown",
   "metadata": {},
   "source": [
    "13. What do means by \\D, \\W, and \\S shorthand character classes signify in regular expressions?"
   ]
  },
  {
   "cell_type": "code",
   "execution_count": 74,
   "metadata": {},
   "outputs": [
    {
     "name": "stdout",
     "output_type": "stream",
     "text": [
      "<re.Match object; span=(0, 1), match=' '>\n",
      "<re.Match object; span=(4, 5), match=' '>\n",
      "<re.Match object; span=(5, 6), match='R'>\n",
      "<re.Match object; span=(6, 7), match='o'>\n",
      "<re.Match object; span=(7, 8), match='h'>\n",
      "<re.Match object; span=(8, 9), match='i'>\n",
      "<re.Match object; span=(9, 10), match='t'>\n",
      "<re.Match object; span=(10, 11), match=' '>\n"
     ]
    }
   ],
   "source": [
    "# \\D not digists\n",
    "\n",
    "# \\W not word caharcter (a-z,A-Z,0-9)\n",
    "\n",
    "# S\\ not white space(space, newline,tab)\n",
    "\n",
    "new_sting = \" 123 Rohit \"\n",
    "\n",
    "pattern = re.compile(r\"\\D\")\n",
    "\n",
    "matches = pattern.finditer(new_sting)\n",
    "\n",
    "for match in matches:\n",
    "    print(match)"
   ]
  },
  {
   "cell_type": "code",
   "execution_count": 75,
   "metadata": {},
   "outputs": [
    {
     "name": "stdout",
     "output_type": "stream",
     "text": [
      "<re.Match object; span=(0, 1), match=' '>\n",
      "<re.Match object; span=(4, 5), match=' '>\n",
      "<re.Match object; span=(10, 11), match=' '>\n"
     ]
    }
   ],
   "source": [
    "new_sting = \" 123 Rohit \"\n",
    "\n",
    "pattern = re.compile(r\"\\W\")\n",
    "\n",
    "matches = pattern.finditer(new_sting)\n",
    "\n",
    "for match in matches:\n",
    "    print(match)\n",
    "    \n",
    "    "
   ]
  },
  {
   "cell_type": "code",
   "execution_count": 76,
   "metadata": {},
   "outputs": [
    {
     "name": "stdout",
     "output_type": "stream",
     "text": [
      "<re.Match object; span=(1, 2), match='1'>\n",
      "<re.Match object; span=(2, 3), match='2'>\n",
      "<re.Match object; span=(3, 4), match='3'>\n",
      "<re.Match object; span=(5, 6), match='R'>\n",
      "<re.Match object; span=(6, 7), match='o'>\n",
      "<re.Match object; span=(7, 8), match='h'>\n",
      "<re.Match object; span=(8, 9), match='i'>\n",
      "<re.Match object; span=(9, 10), match='t'>\n"
     ]
    }
   ],
   "source": [
    "new_sting = \" 123 Rohit \"\n",
    "\n",
    "pattern = re.compile(r\"\\S\")\n",
    "\n",
    "matches = pattern.finditer(new_sting)\n",
    "\n",
    "for match in matches:\n",
    "    print(match)"
   ]
  },
  {
   "cell_type": "markdown",
   "metadata": {},
   "source": [
    "14. What is the difference between . ? and . * ?"
   ]
  },
  {
   "cell_type": "code",
   "execution_count": 77,
   "metadata": {},
   "outputs": [],
   "source": [
    "# . ?   greedy match\n",
    "\n",
    "# . * ?  non greedy match"
   ]
  },
  {
   "cell_type": "markdown",
   "metadata": {},
   "source": [
    "15. What is the syntax for matching both numbers and lowercase letters with a character class?"
   ]
  },
  {
   "cell_type": "code",
   "execution_count": 78,
   "metadata": {},
   "outputs": [
    {
     "name": "stdout",
     "output_type": "stream",
     "text": [
      "<re.Match object; span=(0, 1), match='1'>\n",
      "<re.Match object; span=(1, 2), match='2'>\n",
      "<re.Match object; span=(2, 3), match='3'>\n",
      "<re.Match object; span=(3, 4), match='4'>\n",
      "<re.Match object; span=(9, 10), match='a'>\n",
      "<re.Match object; span=(10, 11), match='b'>\n",
      "<re.Match object; span=(11, 12), match='c'>\n"
     ]
    }
   ],
   "source": [
    "# just use a-z0-9\n",
    "\n",
    "string = \"1234 ABC abc\"\n",
    "\n",
    "pattern = re.compile(r\"[a-z0-9]\")\n",
    "\n",
    "matches = pattern.finditer(string)\n",
    "\n",
    "for match in matches:\n",
    "    \n",
    "    print(match)"
   ]
  },
  {
   "cell_type": "markdown",
   "metadata": {},
   "source": [
    "16. What is the procedure for making a normal expression in regax case insensitive?"
   ]
  },
  {
   "cell_type": "code",
   "execution_count": 79,
   "metadata": {},
   "outputs": [
    {
     "name": "stdout",
     "output_type": "stream",
     "text": [
      "<re.Match object; span=(5, 8), match='ABC'>\n",
      "<re.Match object; span=(9, 12), match='abc'>\n"
     ]
    }
   ],
   "source": [
    "string = \"1234 ABC abc\"\n",
    "\n",
    "pattern = re.compile(r\"abc\",re.I) # re.I will ignore the case\n",
    "\n",
    "matches = pattern.finditer(string)\n",
    "\n",
    "for match in matches:\n",
    "    \n",
    "    print(match)"
   ]
  },
  {
   "cell_type": "markdown",
   "metadata": {},
   "source": [
    "17. What does the . character normally match? What does it match if re.DOTALL is passed as 2nd argument in re.compile()?"
   ]
  },
  {
   "cell_type": "code",
   "execution_count": 84,
   "metadata": {},
   "outputs": [
    {
     "name": "stdout",
     "output_type": "stream",
     "text": [
      "<re.Match object; span=(0, 1), match='1'>\n",
      "<re.Match object; span=(1, 2), match='2'>\n",
      "<re.Match object; span=(2, 3), match='3'>\n",
      "<re.Match object; span=(3, 4), match='4'>\n",
      "<re.Match object; span=(4, 5), match=' '>\n",
      "<re.Match object; span=(5, 6), match='A'>\n",
      "<re.Match object; span=(6, 7), match='B'>\n",
      "<re.Match object; span=(7, 8), match='C'>\n",
      "<re.Match object; span=(8, 9), match=' '>\n",
      "<re.Match object; span=(9, 10), match='a'>\n",
      "<re.Match object; span=(10, 11), match='b'>\n",
      "<re.Match object; span=(11, 12), match='c'>\n"
     ]
    }
   ],
   "source": [
    "# . charcter match everything except new line char\n",
    "\n",
    "# if we pass re.DoTALL. IT WILL match new line charecter as well\n",
    "\n",
    "pattern = re.compile(r\".\",re.DOTALL) # re.I will ignore the case\n",
    "\n",
    "matches = pattern.finditer(string)\n",
    "\n",
    "for match in matches:\n",
    "    \n",
    "    print(match)\n",
    "\n"
   ]
  },
  {
   "cell_type": "markdown",
   "metadata": {},
   "source": [
    "18. If numReg = re.compile(r'\\d+'), what will numRegex.sub('X', '11 drummers, 10 pipers, five rings, 4 hen') return?"
   ]
  },
  {
   "cell_type": "code",
   "execution_count": 148,
   "metadata": {},
   "outputs": [
    {
     "data": {
      "text/plain": [
       "'X drummers, X pipers, five rings, X hen'"
      ]
     },
     "execution_count": 148,
     "metadata": {},
     "output_type": "execute_result"
    }
   ],
   "source": [
    "\n",
    "numRegex = re.compile(r'\\d+')\n",
    "numRegex.sub('X', '11 drummers, 10 pipers, five rings, 4 hen')\n",
    "\n"
   ]
  },
  {
   "cell_type": "markdown",
   "metadata": {},
   "source": [
    "19. What does passing re.VERBOSE as the 2nd argument to re.compile() allow to do?"
   ]
  },
  {
   "cell_type": "code",
   "execution_count": 86,
   "metadata": {},
   "outputs": [],
   "source": [
    "#The re.VERBOSE argument allows you to add whitespace and comments to the string passed to re.compile()."
   ]
  },
  {
   "cell_type": "markdown",
   "metadata": {},
   "source": [
    "20. How would you write a regex that match a number with comma for every three digits? It must match the given following:"
   ]
  },
  {
   "cell_type": "markdown",
   "metadata": {},
   "source": [
    "'42'\n",
    "\n",
    "'1,234'\n",
    "\n",
    "'6,368,745'\n",
    "\n",
    "but not the following:\n",
    "    \n",
    "'12,34,567' (which has only two digits between the commas)\n",
    "\n",
    "'1234' (which lacks commas)\n"
   ]
  },
  {
   "cell_type": "code",
   "execution_count": 144,
   "metadata": {},
   "outputs": [
    {
     "name": "stdout",
     "output_type": "stream",
     "text": [
      "<re.Match object; span=(12, 21), match='6,368,745'>\n"
     ]
    }
   ],
   "source": [
    "import re\n",
    "\n",
    "\n",
    "text_to_search = \"\"\"\n",
    "42\n",
    "\n",
    "1,234\n",
    "\n",
    "6,368,745\n",
    "\n",
    "12,34,567\n",
    "\n",
    "1234\n",
    "\"\"\"\n",
    "\n",
    "\n",
    "pattern = re.compile(r\"\\d,\\d{3},\\d{3}\")\n",
    "\n",
    "matches = pattern.finditer(text_to_search)\n",
    "\n",
    "for match in matches:\n",
    "    \n",
    "    print(match)"
   ]
  },
  {
   "cell_type": "markdown",
   "metadata": {},
   "source": [
    "string = \n",
    "21. How would you write a regex that matches the full name of someone whose last name is Watanabe? You can assume that the first name that comes before it will always be one word that begins with a capital letter. The regex must match the following:\n",
    "\n",
    "'Haruto Watanabe'\n",
    "\n",
    "'Alice Watanabe'\n",
    "\n",
    "'RoboCop Watanabe'\n",
    "\n",
    "but not the following:\n",
    "\n",
    "'haruto Watanabe' (where the first name is not capitalized)\n",
    "\n",
    "'Mr. Watanabe' (where the preceding word has a nonletter character)\n",
    "\n",
    "'Watanabe' (which has no first name)\n",
    "\n",
    "'Haruto watanabe' (where Watanabe is not capitalized)\n",
    "\n",
    "\n"
   ]
  },
  {
   "cell_type": "code",
   "execution_count": 139,
   "metadata": {},
   "outputs": [
    {
     "name": "stdout",
     "output_type": "stream",
     "text": [
      "<re.Match object; span=(2, 17), match='Haruto Watanabe'>\n",
      "<re.Match object; span=(19, 33), match='Alice Watanabe'>\n",
      "<re.Match object; span=(35, 51), match='RoboCop Watanabe'>\n"
     ]
    }
   ],
   "source": [
    "string21= \"\"\"\n",
    "\n",
    "Haruto Watanabe\n",
    "\n",
    "Alice Watanabe\n",
    "\n",
    "RoboCop Watanabe\n",
    "\n",
    "haruto Watanabe\n",
    "\n",
    "Mr. Watanabe\n",
    "\n",
    "Watanabe\n",
    "\n",
    "Haruto watanabe\n",
    "\n",
    "\"\"\"\n",
    "\n",
    "pattern = re.compile(r\"[A-Z][a-zA-Z]*\\sWatanabe\")\n",
    "\n",
    "matches = pattern.finditer(string21)\n",
    "\n",
    "for match in matches:\n",
    "    \n",
    "    print(match)"
   ]
  },
  {
   "cell_type": "markdown",
   "metadata": {},
   "source": [
    "22. How would you write a regex that matches a sentence where the first word is either Alice, Bob, or Carol; the second word is either eats, pets, or throws; the third word is apples, cats, or baseballs; and the sentence ends with a period? This regex should be case-insensitive. It must match the following:\n",
    "\n",
    "'Alice eats apples.'\n",
    "\n",
    "'Bob pets cats.'\n",
    "\n",
    "'Carol throws baseballs.'\n",
    "\n",
    "'Alice throws Apples.'\n",
    "\n",
    "'BOB EATS CATS.'\n",
    "\n",
    "but not the following:\n",
    "\n",
    "'RoboCop eats apples.'\n",
    "\n",
    "'ALICE THROWS FOOTBALLS.'\n",
    "\n",
    "'Carol eats 7 cats.'\n"
   ]
  },
  {
   "cell_type": "code",
   "execution_count": 138,
   "metadata": {},
   "outputs": [
    {
     "name": "stdout",
     "output_type": "stream",
     "text": [
      "<re.Match object; span=(2, 20), match='Alice eats apples.'>\n",
      "<re.Match object; span=(22, 36), match='Bob pets cats.'>\n",
      "<re.Match object; span=(38, 61), match='Carol throws baseballs.'>\n"
     ]
    }
   ],
   "source": [
    "string22 = \"\"\"\n",
    "\n",
    "Alice eats apples.\n",
    "\n",
    "Bob pets cats.\n",
    "\n",
    "Carol throws baseballs.\n",
    "\n",
    "Alice throws Apples.\n",
    "\n",
    "BOB EATS CATS.\n",
    "\n",
    "RoboCop eats apples.\n",
    "\n",
    "ALICE THROWS FOOTBALLS.\n",
    "\n",
    "Carol eats 7 cats.\n",
    "\n",
    "\"\"\"\n",
    "\n",
    "pattern = re.compile(r\"(Alice|Bob|Carol)\\s(eats|pets|throws)\\s(apples|cats|baseballs)\\.\")\n",
    "\n",
    "matches = pattern.finditer(string22)\n",
    "\n",
    "for match in matches:\n",
    "    \n",
    "    print(match)"
   ]
  }
 ],
 "metadata": {
  "kernelspec": {
   "display_name": "Python 3",
   "language": "python",
   "name": "python3"
  },
  "language_info": {
   "codemirror_mode": {
    "name": "ipython",
    "version": 3
   },
   "file_extension": ".py",
   "mimetype": "text/x-python",
   "name": "python",
   "nbconvert_exporter": "python",
   "pygments_lexer": "ipython3",
   "version": "3.8.3"
  }
 },
 "nbformat": 4,
 "nbformat_minor": 4
}

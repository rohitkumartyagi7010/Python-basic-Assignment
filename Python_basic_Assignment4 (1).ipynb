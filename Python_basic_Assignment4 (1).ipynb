{
 "cells": [
  {
   "cell_type": "markdown",
   "metadata": {},
   "source": [
    "1. What exactly is []?"
   ]
  },
  {
   "cell_type": "code",
   "execution_count": 1,
   "metadata": {},
   "outputs": [
    {
     "data": {
      "text/plain": [
       "list"
      ]
     },
     "execution_count": 1,
     "metadata": {},
     "output_type": "execute_result"
    }
   ],
   "source": [
    "# [] This is a empty list\n",
    "\n",
    "a=[]\n",
    "\n",
    "type(a)"
   ]
  },
  {
   "cell_type": "markdown",
   "metadata": {},
   "source": [
    "2. In a list of values stored in a variable called spam, how would you assign the value 'hello' as the third value? (Assume [2, 4, 6, 8, 10] are in spam.)"
   ]
  },
  {
   "cell_type": "code",
   "execution_count": 2,
   "metadata": {},
   "outputs": [
    {
     "name": "stdout",
     "output_type": "stream",
     "text": [
      "[2, 4, 'Hello', 8, 10]\n"
     ]
    }
   ],
   "source": [
    "spam = [2, 4, 6, 8, 10]\n",
    "\n",
    "spam[2]=\"Hello\"\n",
    "\n",
    "print(spam)"
   ]
  },
  {
   "cell_type": "markdown",
   "metadata": {},
   "source": [
    "Let's pretend the spam includes the list ['a', 'b', 'c', 'd'] for the next three queries."
   ]
  },
  {
   "cell_type": "markdown",
   "metadata": {},
   "source": [
    "3. What is the value of spam[int(int('3' * 2) / 11)]?\n",
    "\n",
    "\n",
    "\n",
    "\n"
   ]
  },
  {
   "cell_type": "code",
   "execution_count": 3,
   "metadata": {},
   "outputs": [
    {
     "data": {
      "text/plain": [
       "'d'"
      ]
     },
     "execution_count": 3,
     "metadata": {},
     "output_type": "execute_result"
    }
   ],
   "source": [
    "spam =  ['a', 'b', 'c', 'd'] \n",
    "\n",
    "spam[int(int('3' * 2) / 11)]"
   ]
  },
  {
   "cell_type": "markdown",
   "metadata": {},
   "source": [
    "4. What is the value of spam[-1]?"
   ]
  },
  {
   "cell_type": "code",
   "execution_count": 4,
   "metadata": {},
   "outputs": [
    {
     "data": {
      "text/plain": [
       "'d'"
      ]
     },
     "execution_count": 4,
     "metadata": {},
     "output_type": "execute_result"
    }
   ],
   "source": [
    "# it will retrun last element of the list \n",
    "\n",
    "spam[-1]"
   ]
  },
  {
   "cell_type": "markdown",
   "metadata": {},
   "source": [
    "5. What is the value of spam[:2]?"
   ]
  },
  {
   "cell_type": "code",
   "execution_count": 5,
   "metadata": {},
   "outputs": [
    {
     "data": {
      "text/plain": [
       "['a', 'b']"
      ]
     },
     "execution_count": 5,
     "metadata": {},
     "output_type": "execute_result"
    }
   ],
   "source": [
    "# will print element [0:2]  0,1\n",
    "\n",
    "spam[:2]"
   ]
  },
  {
   "cell_type": "markdown",
   "metadata": {},
   "source": [
    "Let's pretend bacon has the list \n",
    "\n",
    "[3.14, 'cat,' 11, 'cat,' True] for the next three questions."
   ]
  },
  {
   "cell_type": "markdown",
   "metadata": {},
   "source": [
    "6. What is the value of bacon.index('cat')?"
   ]
  },
  {
   "cell_type": "code",
   "execution_count": 6,
   "metadata": {},
   "outputs": [
    {
     "data": {
      "text/plain": [
       "1"
      ]
     },
     "execution_count": 6,
     "metadata": {},
     "output_type": "execute_result"
    }
   ],
   "source": [
    "bacon = [3.14, 'cat', 11, 'cat', True] \n",
    "\n",
    "# bacon.index (\"cat \") will retrun index of cat (first occurrence) whcich is 1\n",
    "\n",
    "bacon.index(\"cat\")"
   ]
  },
  {
   "cell_type": "markdown",
   "metadata": {},
   "source": [
    "7. How does bacon.append(99) change the look of the list value in bacon?"
   ]
  },
  {
   "cell_type": "code",
   "execution_count": 7,
   "metadata": {},
   "outputs": [
    {
     "name": "stdout",
     "output_type": "stream",
     "text": [
      "[3.14, 'cat', 11, 'cat', True, 99]\n"
     ]
    }
   ],
   "source": [
    "bacon = [3.14, 'cat', 11, 'cat', True] \n",
    "\n",
    "# append will add the element at the end of the list \n",
    "\n",
    "bacon.append(99)\n",
    "\n",
    "print(bacon)"
   ]
  },
  {
   "cell_type": "markdown",
   "metadata": {},
   "source": [
    "8. How does bacon.remove('cat') change the look of the list in bacon?"
   ]
  },
  {
   "cell_type": "code",
   "execution_count": 8,
   "metadata": {},
   "outputs": [
    {
     "name": "stdout",
     "output_type": "stream",
     "text": [
      "[3.14, 11, 'cat', True]\n"
     ]
    }
   ],
   "source": [
    "bacon = [3.14, 'cat', 11, 'cat', True] \n",
    "\n",
    "bacon.remove(\"cat\") # will remove first occurrence of cat\n",
    "\n",
    "print(bacon)"
   ]
  },
  {
   "cell_type": "markdown",
   "metadata": {},
   "source": [
    "9. What are the list concatenation and list replication operators?"
   ]
  },
  {
   "cell_type": "code",
   "execution_count": 9,
   "metadata": {},
   "outputs": [
    {
     "name": "stdout",
     "output_type": "stream",
     "text": [
      "[3.14, 'cat', 11, 'cat', True, 'rohit', 'red', 123]\n",
      "[3.14, 'cat', 11, 'cat', True, 3.14, 'cat', 11, 'cat', True]\n"
     ]
    }
   ],
   "source": [
    "bacon = [3.14, 'cat', 11, 'cat', True] \n",
    "\n",
    "\n",
    "bacon2 =[\"rohit\",\"red\", 123]\n",
    "\n",
    "\n",
    "#concatenation \n",
    "\n",
    "print(bacon+bacon2)\n",
    "\n",
    "# replication\n",
    "\n",
    "print(bacon*2)"
   ]
  },
  {
   "cell_type": "markdown",
   "metadata": {},
   "source": [
    " 10. What is difference between the list methods append() and insert()?"
   ]
  },
  {
   "cell_type": "code",
   "execution_count": 10,
   "metadata": {},
   "outputs": [
    {
     "name": "stdout",
     "output_type": "stream",
     "text": [
      "[1, 2, 3, 4, 5]\n"
     ]
    }
   ],
   "source": [
    "#append method will add element at the end of the list\n",
    "\n",
    "list1= [1,2,3,4]\n",
    "\n",
    "list1.append(5)\n",
    "\n",
    "print(list1)"
   ]
  },
  {
   "cell_type": "code",
   "execution_count": 11,
   "metadata": {},
   "outputs": [
    {
     "name": "stdout",
     "output_type": "stream",
     "text": [
      "['rohit', 1, 2, 3, 4]\n"
     ]
    }
   ],
   "source": [
    "# insert method takes two argument (first is index, and second is object)\n",
    "\n",
    "list1= [1,2,3,4]\n",
    "\n",
    "list1.insert(0,\"rohit\") # inseted element at indes 0\n",
    "\n",
    "print(list1)"
   ]
  },
  {
   "cell_type": "markdown",
   "metadata": {},
   "source": [
    "11. What are the two methods for removing items from a list?"
   ]
  },
  {
   "cell_type": "code",
   "execution_count": 12,
   "metadata": {},
   "outputs": [
    {
     "name": "stdout",
     "output_type": "stream",
     "text": [
      "[]\n",
      "[1, 2, 3]\n",
      "[1, 2, 3]\n"
     ]
    }
   ],
   "source": [
    "#clear (will clear entire list)\n",
    "\n",
    "list2=[1,2,3,4]\n",
    "\n",
    "list2.clear()\n",
    "\n",
    "print(list2)\n",
    "\n",
    "# remove (will remove specific element)\n",
    "\n",
    "list2=[1,2,3,4]\n",
    "\n",
    "list2.remove(4)\n",
    "\n",
    "print(list2)\n",
    "\n",
    "# pop (will remove last element of the list if index not specified)\n",
    "\n",
    "list2=[1,2,3,4]\n",
    "\n",
    "list2.pop()\n",
    "\n",
    "print(list2)\n"
   ]
  },
  {
   "cell_type": "markdown",
   "metadata": {},
   "source": [
    "12. Describe how list values and string values are identical."
   ]
  },
  {
   "cell_type": "code",
   "execution_count": 13,
   "metadata": {},
   "outputs": [
    {
     "name": "stdout",
     "output_type": "stream",
     "text": [
      "<class 'list'>\n",
      "<class 'str'>\n"
     ]
    }
   ],
   "source": [
    "# list is denoted by []\n",
    "\n",
    "# string is denoted by \" \"\n",
    "\n",
    "list12=[\"rohit\",\"name\",\"this\"]\n",
    "print(type(list12))\n",
    "\n",
    "string3=\"rohit\"\n",
    "\n",
    "print(type(string3))"
   ]
  },
  {
   "cell_type": "markdown",
   "metadata": {},
   "source": [
    "13. What's the difference between tuples and lists?"
   ]
  },
  {
   "cell_type": "code",
   "execution_count": 14,
   "metadata": {},
   "outputs": [
    {
     "name": "stdout",
     "output_type": "stream",
     "text": [
      "[1, 2, 3, 4, 4]\n"
     ]
    }
   ],
   "source": [
    "# tuples are immutabe intity\n",
    "\n",
    "# lists are mutable intity\n",
    "\n",
    "list2=[1,2,3,4]\n",
    "\n",
    "list2.append(4)\n",
    "\n",
    "print(list2)\n",
    "\n",
    "tuple2=(1,2,3,4)\n",
    "\n",
    "# tuple2[0]=\"rohit\" through an error as tuples are immutable"
   ]
  },
  {
   "cell_type": "markdown",
   "metadata": {},
   "source": [
    "14. How do you type a tuple value that only contains the integer 42?"
   ]
  },
  {
   "cell_type": "code",
   "execution_count": 15,
   "metadata": {},
   "outputs": [
    {
     "name": "stdout",
     "output_type": "stream",
     "text": [
      "(42,)\n",
      "<class 'tuple'>\n"
     ]
    }
   ],
   "source": [
    "# need to use comma after one element\n",
    "tuple2=(42,)\n",
    "\n",
    "print(tuple2)\n",
    "\n",
    "print(type(tuple2))"
   ]
  },
  {
   "cell_type": "markdown",
   "metadata": {},
   "source": [
    "15. How do you get a list value's tuple form? How do you get a tuple value's list form?"
   ]
  },
  {
   "cell_type": "code",
   "execution_count": 16,
   "metadata": {},
   "outputs": [
    {
     "data": {
      "text/plain": [
       "(1, 2, 3, 4)"
      ]
     },
     "execution_count": 16,
     "metadata": {},
     "output_type": "execute_result"
    }
   ],
   "source": [
    "list2=[1,2,3,4]\n",
    "\n",
    "tuple(list2)"
   ]
  },
  {
   "cell_type": "code",
   "execution_count": 17,
   "metadata": {},
   "outputs": [
    {
     "data": {
      "text/plain": [
       "[1, 2, 3, 4]"
      ]
     },
     "execution_count": 17,
     "metadata": {},
     "output_type": "execute_result"
    }
   ],
   "source": [
    "tuple12=(1,2,3,4)\n",
    "\n",
    "list(tuple12)\n",
    "\n"
   ]
  },
  {
   "cell_type": "markdown",
   "metadata": {},
   "source": [
    "16. Variables that \"contain\" list values are not necessarily lists themselves. Instead, what do they contain?"
   ]
  },
  {
   "cell_type": "code",
   "execution_count": 1,
   "metadata": {},
   "outputs": [],
   "source": [
    "# They contain references to list values."
   ]
  },
  {
   "cell_type": "markdown",
   "metadata": {},
   "source": [
    "17. How do you distinguish between copy.copy() and copy.deepcopy()?"
   ]
  },
  {
   "cell_type": "code",
   "execution_count": 20,
   "metadata": {},
   "outputs": [
    {
     "name": "stdout",
     "output_type": "stream",
     "text": [
      "[1, 2, [3, 5], 4]\n",
      "[1, 2, [3, 5], 4]\n",
      "[1, 2, [3, 5], 4]\n"
     ]
    }
   ],
   "source": [
    "#shaloow copy : is a bit-wise copy. The copied object created has an exact copy of  values in the original object.\n",
    "#               change in either object will reflect in both\n",
    "\n",
    "#Deep copy :copies all values recursively from source to traget.\n",
    "\n",
    "import copy\n",
    "  \n",
    "# below is our original list \n",
    "original_list = [1, 2, [3,5], 4]\n",
    "  \n",
    "  \n",
    "#using copy for shallow copy  \n",
    "\n",
    "shallowcopy = copy.copy(original_list) \n",
    "  \n",
    "# using deepcopy for deepcopy  \n",
    "deepcopy = copy.deepcopy(original_list) \n",
    "\n",
    "print(original_list)\n",
    "\n",
    "print(shallowcopy)\n",
    "\n",
    "print(deepcopy)"
   ]
  },
  {
   "cell_type": "code",
   "execution_count": 28,
   "metadata": {},
   "outputs": [
    {
     "name": "stdout",
     "output_type": "stream",
     "text": [
      "Original_list :      [1, 2, ['rohit', 5], 4]\n",
      "Shallow_copy_list :  [1, 2, ['rohit', 5], 4]\n",
      "Deep_copy_list :     [1, 2, [3, 5], 4]\n"
     ]
    }
   ],
   "source": [
    "shallowcopy[2][0]=\"rohit\" #(made modification  in shallow copy)\n",
    "\n",
    "print(\"Original_list :     \",original_list) # (original list changed)\n",
    "\n",
    "print(\"Shallow_copy_list : \",shallowcopy) # if we change shallow copy (orginal list also changed)\n",
    "\n",
    "print(\"Deep_copy_list :    \",deepcopy) # deep copy did not change (orginal list)\n",
    "\n",
    "\n"
   ]
  }
 ],
 "metadata": {
  "kernelspec": {
   "display_name": "Python 3",
   "language": "python",
   "name": "python3"
  },
  "language_info": {
   "codemirror_mode": {
    "name": "ipython",
    "version": 3
   },
   "file_extension": ".py",
   "mimetype": "text/x-python",
   "name": "python",
   "nbconvert_exporter": "python",
   "pygments_lexer": "ipython3",
   "version": "3.8.3"
  }
 },
 "nbformat": 4,
 "nbformat_minor": 4
}

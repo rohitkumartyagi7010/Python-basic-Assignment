{
 "cells": [
  {
   "cell_type": "markdown",
   "metadata": {},
   "source": [
    "1. In what modes should the PdfFileReader() and PdfFileWriter() File objects will be opened?"
   ]
  },
  {
   "cell_type": "code",
   "execution_count": 1,
   "metadata": {},
   "outputs": [],
   "source": [
    "import PyPDF2\n",
    "\n",
    "# File = open(\"the_canterville_ghost.pdf\",\"rb\") # for read mode\n",
    "\n",
    "# File = open(\"the_canterville_ghost.pdf\",\"rb\") # for write mode"
   ]
  },
  {
   "cell_type": "markdown",
   "metadata": {},
   "source": [
    "2. From a PdfFileReader object, how do you get a Page object for page 5?"
   ]
  },
  {
   "cell_type": "code",
   "execution_count": 2,
   "metadata": {},
   "outputs": [
    {
     "name": "stdout",
     "output_type": "stream",
     "text": [
      "24\n"
     ]
    }
   ],
   "source": [
    "import PyPDF2\n",
    "\n",
    "File = open(\"Haunted.pdf\",\"rb\")\n",
    "\n",
    "file_REader_pdf = PyPDF2.PdfFileReader(File)\n",
    "\n",
    "print(file_REader_pdf.numPages) # will return number of pages in your pdf file\n",
    "\n",
    "Page_Object = file_REader_pdf.getPage(2)\n",
    "\n",
    "\n",
    "\n",
    "\n",
    "\n"
   ]
  },
  {
   "cell_type": "markdown",
   "metadata": {},
   "source": [
    "3. What PdfFileReader variable stores the number of pages in the PDF document?"
   ]
  },
  {
   "cell_type": "code",
   "execution_count": 3,
   "metadata": {},
   "outputs": [
    {
     "name": "stdout",
     "output_type": "stream",
     "text": [
      "24\n"
     ]
    }
   ],
   "source": [
    "#The numPages variable stores an integer of the number of pages in the PdfFileReader object.\n",
    "\n",
    "print(file_REader_pdf.numPages)"
   ]
  },
  {
   "cell_type": "markdown",
   "metadata": {},
   "source": [
    "4. If a PdfFileReader object’s PDF is encrypted with the password swordfish, what must you do before you can obtain Page objects from it?"
   ]
  },
  {
   "cell_type": "code",
   "execution_count": 4,
   "metadata": {},
   "outputs": [
    {
     "data": {
      "text/plain": [
       "False"
      ]
     },
     "execution_count": 4,
     "metadata": {},
     "output_type": "execute_result"
    }
   ],
   "source": [
    "# File Decrypting is required first \n",
    "\n",
    "import PyPDF2\n",
    "\n",
    "Pdf_reader_ = PyPDF2.PdfFileReader(open(\"Haunted.pdf\",\"rb\"))\n",
    "\n",
    "Pdf_reader_.isEncrypted # in our case file is not Encrypted\n",
    "\n",
    "# Pdf_reader_.decrypt(\"password\") you need to put password\n",
    "\n"
   ]
  },
  {
   "cell_type": "markdown",
   "metadata": {},
   "source": [
    "5. What methods do you use to rotate a page?"
   ]
  },
  {
   "cell_type": "code",
   "execution_count": 5,
   "metadata": {},
   "outputs": [],
   "source": [
    "#1.rotateClockwise() \n",
    "\n",
    "#2.rotateCounterClockwise()"
   ]
  },
  {
   "cell_type": "code",
   "execution_count": 11,
   "metadata": {},
   "outputs": [],
   "source": [
    "# Rotating single Page\n",
    "\n",
    "import PyPDF2\n",
    "minutesFile = open('Haunted.pdf', 'rb')\n",
    "pdfReader = PyPDF2.PdfFileReader(minutesFile)\n",
    "page = pdfReader.getPage(0)\n",
    "page.rotateClockwise(90)\n",
    "\n",
    "pdfWriter = PyPDF2.PdfFileWriter()\n",
    "pdfWriter.addPage(page)\n",
    "\n",
    "resultPdfFile = open('rotated_new_file.pdf', 'wb')\n",
    "pdfWriter.write(resultPdfFile)\n",
    "\n",
    "resultPdfFile.close()\n",
    "minutesFile.close()"
   ]
  },
  {
   "cell_type": "code",
   "execution_count": null,
   "metadata": {},
   "outputs": [],
   "source": [
    "# below code can rotate entire file as we are using the for loop in "
   ]
  },
  {
   "cell_type": "code",
   "execution_count": 40,
   "metadata": {},
   "outputs": [],
   "source": [
    "def ROtate_Entire_pdf():    \n",
    "    \n",
    "    import PyPDF2\n",
    "    minutesFile = open('Haunted.pdf', 'rb')\n",
    "    pdfReader = PyPDF2.PdfFileReader(minutesFile)\n",
    "\n",
    "\n",
    "    pdfWriter = PyPDF2.PdfFileWriter()\n",
    "\n",
    "    for i in range(pdfReader.numPages):\n",
    "        page = pdfReader.getPage(i)\n",
    "\n",
    "        page.rotateClockwise(90)\n",
    "\n",
    "        pdfWriter.addPage(page)\n",
    "\n",
    "        resultPdfFile = open('rotated_Haunted.pdf', 'wb')\n",
    "\n",
    "        pdfWriter.write(resultPdfFile)\n",
    "\n",
    "    resultPdfFile.close()\n",
    "    minutesFile.close()\n",
    "    \n",
    "ROtate_Entire_pdf()    "
   ]
  },
  {
   "cell_type": "code",
   "execution_count": 41,
   "metadata": {},
   "outputs": [],
   "source": [
    "# Encrypting PDFs\n",
    "\n",
    "def Create_new_password_protectd_pdf():\n",
    "\n",
    "    import PyPDF2\n",
    "\n",
    "    file22 = open(\"at_your_age.pdf\",\"rb\")\n",
    "\n",
    "    my_pdf_reader = PyPDF2.PdfFileReader(file22)\n",
    "\n",
    "    my_pdf_writer = PyPDF2.PdfFileWriter()\n",
    "\n",
    "    for page in range(my_pdf_reader.numPages):\n",
    "        my_pdf_writer.addPage(my_pdf_reader.getPage(page)) # now we have added all pages in pdfwiter\n",
    "\n",
    "    my_pdf_writer.encrypt(\"Password123\")\n",
    "\n",
    "    new_encrypted_pdf = open(\"at_your_age_protected.pdf\",\"wb\")\n",
    "\n",
    "    my_pdf_writer.write(new_encrypted_pdf)\n",
    "\n",
    "\n",
    "    file22.close()    \n",
    "    new_encrypted_pdf.close()\n",
    "\n",
    "Create_new_password_protectd_pdf()"
   ]
  },
  {
   "cell_type": "markdown",
   "metadata": {},
   "source": [
    "6. What is the difference between a Run object and a Paragraph object?"
   ]
  },
  {
   "cell_type": "code",
   "execution_count": 47,
   "metadata": {},
   "outputs": [
    {
     "name": "stdout",
     "output_type": "stream",
     "text": [
      "A plain paragraph with\n",
      " some \n",
      "bold\n",
      " and some \n",
      "italic\n"
     ]
    }
   ],
   "source": [
    "#runs --->Runs are contiguous groups of characters within a paragraph.\n",
    "# check below code\n",
    "import docx\n",
    "doc= docx.Document(\"demo.docx\")\n",
    "\n",
    "print(doc.paragraphs[1].runs[0].text) # it means \"A plain paragraph with\" in same text type\n",
    "print(doc.paragraphs[1].runs[1].text) # in this \n",
    "print(doc.paragraphs[1].runs[2].text) # this word is written bold \n",
    "print(doc.paragraphs[1].runs[3].text) # these word is written in plain text\n",
    "print(doc.paragraphs[1].runs[4].text) #  this word is written in italic "
   ]
  },
  {
   "cell_type": "code",
   "execution_count": 48,
   "metadata": {},
   "outputs": [
    {
     "data": {
      "text/plain": [
       "[<docx.text.paragraph.Paragraph at 0x1d26ae40640>,\n",
       " <docx.text.paragraph.Paragraph at 0x1d26ae40790>,\n",
       " <docx.text.paragraph.Paragraph at 0x1d26ae40520>,\n",
       " <docx.text.paragraph.Paragraph at 0x1d26ae409a0>,\n",
       " <docx.text.paragraph.Paragraph at 0x1d26ae40490>,\n",
       " <docx.text.paragraph.Paragraph at 0x1d26ae40970>,\n",
       " <docx.text.paragraph.Paragraph at 0x1d26ae40dc0>]"
      ]
     },
     "execution_count": 48,
     "metadata": {},
     "output_type": "execute_result"
    }
   ],
   "source": [
    "#paragraphs-----> A paragraph begins on a new line and contains multiple runs\n",
    "\n",
    "import docx\n",
    "\n",
    "doc= docx.Document(\"demo.docx\")\n",
    "\n",
    "doc.paragraphs # as you see it ill return oobject for every line"
   ]
  },
  {
   "cell_type": "markdown",
   "metadata": {},
   "source": [
    "7. How do you obtain a list of Paragraph objects for a Document object that’s stored in a variable named doc?"
   ]
  },
  {
   "cell_type": "code",
   "execution_count": 49,
   "metadata": {},
   "outputs": [
    {
     "data": {
      "text/plain": [
       "[<docx.text.paragraph.Paragraph at 0x1d26b131a60>,\n",
       " <docx.text.paragraph.Paragraph at 0x1d26b131af0>,\n",
       " <docx.text.paragraph.Paragraph at 0x1d26b131ac0>,\n",
       " <docx.text.paragraph.Paragraph at 0x1d26b131ca0>,\n",
       " <docx.text.paragraph.Paragraph at 0x1d26b131cd0>,\n",
       " <docx.text.paragraph.Paragraph at 0x1d26b131d00>,\n",
       " <docx.text.paragraph.Paragraph at 0x1d26b131ee0>]"
      ]
     },
     "execution_count": 49,
     "metadata": {},
     "output_type": "execute_result"
    }
   ],
   "source": [
    "# you can use doc.paragraph lets see below\n",
    "\n",
    "import docx\n",
    "\n",
    "doc=docx.Document(\"demo.docx\")\n",
    "\n",
    "doc.paragraphs # in our case we have 7"
   ]
  },
  {
   "cell_type": "markdown",
   "metadata": {},
   "source": [
    "8. What type of object has bold, underline, italic, strike, and outline variables?"
   ]
  },
  {
   "cell_type": "code",
   "execution_count": 70,
   "metadata": {},
   "outputs": [
    {
     "data": {
      "text/plain": [
       "'italic'"
      ]
     },
     "execution_count": 70,
     "metadata": {},
     "output_type": "execute_result"
    }
   ],
   "source": [
    "#A Run object has these variables\n",
    "\n",
    "import docx\n",
    "\n",
    "doc= docx.Document(\"demo.docx\")\n",
    "\n",
    "doc.paragraphs[1].runs[4].text # it is italic text"
   ]
  },
  {
   "cell_type": "markdown",
   "metadata": {},
   "source": [
    "9. What is the difference between False, True, and None for the bold variable?"
   ]
  },
  {
   "cell_type": "code",
   "execution_count": 72,
   "metadata": {},
   "outputs": [],
   "source": [
    "#True always makes the Run object bolded and False makes it always not bolded, no matter what the style’s bold setting is.\n",
    "#None will make the Run object just use the style’s bold setting."
   ]
  },
  {
   "cell_type": "markdown",
   "metadata": {},
   "source": [
    "10. How do you create a Document object for a new Word document?"
   ]
  },
  {
   "cell_type": "code",
   "execution_count": 73,
   "metadata": {},
   "outputs": [],
   "source": [
    "import docx\n",
    "\n",
    "doc= docx.Document(\"demo.docx\")"
   ]
  },
  {
   "cell_type": "markdown",
   "metadata": {},
   "source": [
    "11. How do you add a paragraph with the text 'Hello, there!' to a Document object stored in a variable named doc?"
   ]
  },
  {
   "cell_type": "code",
   "execution_count": 74,
   "metadata": {},
   "outputs": [],
   "source": [
    "# True always makes the Run object bolded and False makes it always not bolded, no matter what the style’s bold setting is.\n",
    "# None will make the Run object just use the style’s bold setting."
   ]
  },
  {
   "cell_type": "markdown",
   "metadata": {},
   "source": [
    "10. How do you create a Document object for a new Word document?"
   ]
  },
  {
   "cell_type": "code",
   "execution_count": 76,
   "metadata": {},
   "outputs": [],
   "source": [
    "import docx\n",
    "\n",
    "doc = docx.Document() # it will create your word document\n",
    "\n",
    "doc.save(\"new_word_document.docx\") # it will create new word document "
   ]
  },
  {
   "cell_type": "markdown",
   "metadata": {},
   "source": [
    "11. How do you add a paragraph with the text 'Hello, there!' to a Document object stored in a variable named doc?"
   ]
  },
  {
   "cell_type": "code",
   "execution_count": 79,
   "metadata": {},
   "outputs": [],
   "source": [
    "import docx\n",
    "\n",
    "doc = docx.Document() # it will create your word \n",
    "\n",
    "doc.add_paragraph(\"Hello, there!\") # add_paragraph to new document\n",
    "\n",
    "doc.save(\"new_word_document.docx\") # it will create new word document "
   ]
  },
  {
   "cell_type": "markdown",
   "metadata": {},
   "source": [
    "12. What integers represent the levels of headings available in Word documents?"
   ]
  },
  {
   "cell_type": "code",
   "execution_count": 84,
   "metadata": {},
   "outputs": [],
   "source": [
    "import docx\n",
    "\n",
    "doc = docx.Document()\n",
    "\n",
    "doc.add_heading(\"This is level 0 heading\",level=0)\n",
    "doc.add_heading(\"This is level 1 heading\",level=1)\n",
    "doc.add_heading(\"This is level 2 heading\",level=2)\n",
    "doc.add_heading(\"This is level 3 heading\",level=3)\n",
    "doc.add_heading(\"This is level 4 heading\",level=4)\n",
    "\n",
    "doc.save(\"new_word_document.docx\")"
   ]
  },
  {
   "cell_type": "code",
   "execution_count": null,
   "metadata": {},
   "outputs": [],
   "source": []
  }
 ],
 "metadata": {
  "kernelspec": {
   "display_name": "Python 3",
   "language": "python",
   "name": "python3"
  },
  "language_info": {
   "codemirror_mode": {
    "name": "ipython",
    "version": 3
   },
   "file_extension": ".py",
   "mimetype": "text/x-python",
   "name": "python",
   "nbconvert_exporter": "python",
   "pygments_lexer": "ipython3",
   "version": "3.8.3"
  }
 },
 "nbformat": 4,
 "nbformat_minor": 4
}

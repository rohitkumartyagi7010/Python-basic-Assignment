{
 "cells": [
  {
   "cell_type": "markdown",
   "metadata": {},
   "source": [
    "1. Why are functions advantageous to have in your programs?"
   ]
  },
  {
   "cell_type": "code",
   "execution_count": 1,
   "metadata": {},
   "outputs": [],
   "source": [
    "# 1. Functions enable reuse of code\n",
    "\n",
    "# 2. improve maintainability and scalability."
   ]
  },
  {
   "cell_type": "markdown",
   "metadata": {},
   "source": [
    "2. When does the code in a function run: when it's specified or when it's called?"
   ]
  },
  {
   "cell_type": "code",
   "execution_count": 2,
   "metadata": {},
   "outputs": [],
   "source": [
    "# when it's called\n",
    "\n",
    "# function_name(argument1,argument2,...........)"
   ]
  },
  {
   "cell_type": "markdown",
   "metadata": {},
   "source": [
    "3. What statement creates a function?"
   ]
  },
  {
   "cell_type": "code",
   "execution_count": 3,
   "metadata": {},
   "outputs": [
    {
     "data": {
      "text/plain": [
       "3"
      ]
     },
     "execution_count": 3,
     "metadata": {},
     "output_type": "execute_result"
    }
   ],
   "source": [
    "# 1. we use def keyword to create a funciton\n",
    "\n",
    "def Function(a,b):  # define the function\n",
    "    \n",
    "    return a+b\n",
    "\n",
    "Function(1,2)       # calling the funtion"
   ]
  },
  {
   "cell_type": "markdown",
   "metadata": {},
   "source": [
    "4. What is the difference between a function and a function call?"
   ]
  },
  {
   "cell_type": "code",
   "execution_count": 4,
   "metadata": {},
   "outputs": [],
   "source": [
    "# 1.A function is a piece of code which enhanced the reusability and modularity of your program\n",
    "\n",
    "\n",
    "# 2. Function call:A function call means invoking or calling that function. Unless a function is called there is no use of\n",
    "#     that function."
   ]
  },
  {
   "cell_type": "markdown",
   "metadata": {},
   "source": [
    "5. How many global scopes are there in a Python program? How many local scopes?"
   ]
  },
  {
   "cell_type": "code",
   "execution_count": 5,
   "metadata": {},
   "outputs": [
    {
     "data": {
      "text/plain": [
       "100"
      ]
     },
     "execution_count": 5,
     "metadata": {},
     "output_type": "execute_result"
    }
   ],
   "source": [
    "# we have three scop in python \n",
    "#LGB\n",
    "#1.local scope : Names assigned inside a funtion def\n",
    "\n",
    "#2.Global scope : 1. names assigned at top level of module       2. names declared as \"global\" inside a function\n",
    "\n",
    "\n",
    "#3.Built in scope : predefined name like (len(),open(),print())\n",
    "\n",
    "\n",
    "\n",
    "\n",
    "# global scope\n",
    "X = 99                # X and func assigned in module: global\n",
    "          \n",
    "def func(Y):          # Y and Z assigned in function: locals\n",
    "    # local scope\n",
    "    \n",
    "    \n",
    "    \n",
    "    Z = X + Y         # X is not assigned, so it's a global\n",
    "    return Z\n",
    "\n",
    "func(1)      \n",
    "\n",
    "# There’s only one global Python scope per program execution. This scope remains in existence until the program terminates \n",
    "# and all its names are forgotten.\n",
    "\n",
    "\n",
    "\n",
    "\n"
   ]
  },
  {
   "cell_type": "code",
   "execution_count": 11,
   "metadata": {},
   "outputs": [
    {
     "data": {
      "text/plain": [
       "('local_varaiable is', 20)"
      ]
     },
     "execution_count": 11,
     "metadata": {},
     "output_type": "execute_result"
    }
   ],
   "source": [
    "#local scope \n",
    "def func2():          # Y and Z assigned in function: locals\n",
    "    # local scope\n",
    "    \n",
    "    local_varaiable =20\n",
    "    \n",
    "             \n",
    "    return \"local_varaiable is\", local_varaiable\n",
    "\n",
    "func2()\n",
    "\n",
    "#print(local_varaiable) # will give an error as local_variable in local scope"
   ]
  },
  {
   "cell_type": "markdown",
   "metadata": {},
   "source": [
    "6. What happens to variables in a local scope when the function call returns?"
   ]
  },
  {
   "cell_type": "code",
   "execution_count": 16,
   "metadata": {},
   "outputs": [],
   "source": [
    "# gets cleared when the funtion return"
   ]
  },
  {
   "cell_type": "markdown",
   "metadata": {},
   "source": [
    "7. What is the concept of a return value? Is it possible to have a return value in an expression?"
   ]
  },
  {
   "cell_type": "code",
   "execution_count": null,
   "metadata": {},
   "outputs": [],
   "source": [
    "#   The Python return statement is a key component of functions and methods. \n",
    "#   You can use the return statement to make your functions send Python objects back to the caller code.\n",
    "\n",
    "\n",
    "\n",
    "\n",
    "# yes return value can be used in an expression"
   ]
  },
  {
   "cell_type": "markdown",
   "metadata": {},
   "source": [
    "8. If a function does not have a return statement, what is the return value of a call to that function?"
   ]
  },
  {
   "cell_type": "code",
   "execution_count": null,
   "metadata": {},
   "outputs": [],
   "source": [
    "# return value will be none \n",
    "\n"
   ]
  },
  {
   "cell_type": "markdown",
   "metadata": {},
   "source": [
    "9. How do you make a function variable refer to the global variable?"
   ]
  },
  {
   "cell_type": "code",
   "execution_count": 31,
   "metadata": {},
   "outputs": [
    {
     "name": "stdout",
     "output_type": "stream",
     "text": [
      "60\n",
      "20\n"
     ]
    }
   ],
   "source": [
    "# we use gloabal keywork to make function global \n",
    "\n",
    "def function2(a,b):\n",
    "    \n",
    "    global xyz\n",
    "    \n",
    "    xyz=20\n",
    "    \n",
    "    return a+b\n",
    "\n",
    "print(function2(30,30))\n",
    "\n",
    "print(xyz)"
   ]
  },
  {
   "cell_type": "markdown",
   "metadata": {},
   "source": [
    "10. What is the data type of None?"
   ]
  },
  {
   "cell_type": "code",
   "execution_count": 32,
   "metadata": {},
   "outputs": [],
   "source": [
    "# The None keyword is used to define a null value, or no value at all.\n",
    "\n",
    "# None is not the same as 0, False, or an empty string. None is a data type of its own (NoneType) and only None can be None."
   ]
  },
  {
   "cell_type": "markdown",
   "metadata": {},
   "source": [
    "11. What does the sentence import areallyourpetsnamederic do?"
   ]
  },
  {
   "cell_type": "code",
   "execution_count": 33,
   "metadata": {},
   "outputs": [],
   "source": [
    "#That import statement imports a module named areallyourpetsnamederic."
   ]
  },
  {
   "cell_type": "markdown",
   "metadata": {},
   "source": [
    "12. If you had a bacon() feature in a spam module, what would you call it after importing spam?"
   ]
  },
  {
   "cell_type": "code",
   "execution_count": 35,
   "metadata": {},
   "outputs": [],
   "source": [
    "# import spam\n",
    "# spam.bacon()"
   ]
  },
  {
   "cell_type": "markdown",
   "metadata": {},
   "source": [
    "13. What can you do to save a programme from crashing if it encounters an error?"
   ]
  },
  {
   "cell_type": "code",
   "execution_count": null,
   "metadata": {},
   "outputs": [],
   "source": [
    "# you can can try block "
   ]
  },
  {
   "cell_type": "markdown",
   "metadata": {},
   "source": [
    "14. What is the purpose of the try clause? What is the purpose of the except clause?"
   ]
  },
  {
   "cell_type": "code",
   "execution_count": 39,
   "metadata": {},
   "outputs": [
    {
     "name": "stdout",
     "output_type": "stream",
     "text": [
      "somthing went wrong\n"
     ]
    }
   ],
   "source": [
    "#1. try: when it seems that error can occur we use try block\n",
    "\n",
    "#2. except :The code that executes if an error happens goes in the except\n",
    "\n",
    "\n",
    "\n",
    "try :\n",
    "    \n",
    "    nym +num \n",
    "    \n",
    "except :\n",
    "    \n",
    "    print(\"somthing went wrong\")   # try block did not work properly as variable names are not declared in try block"
   ]
  }
 ],
 "metadata": {
  "kernelspec": {
   "display_name": "Python 3",
   "language": "python",
   "name": "python3"
  },
  "language_info": {
   "codemirror_mode": {
    "name": "ipython",
    "version": 3
   },
   "file_extension": ".py",
   "mimetype": "text/x-python",
   "name": "python",
   "nbconvert_exporter": "python",
   "pygments_lexer": "ipython3",
   "version": "3.8.3"
  }
 },
 "nbformat": 4,
 "nbformat_minor": 4
}
